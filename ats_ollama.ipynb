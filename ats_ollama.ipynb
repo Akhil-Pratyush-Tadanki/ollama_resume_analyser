{
 "cells": [
  {
   "cell_type": "code",
   "execution_count": 4,
   "metadata": {},
   "outputs": [
    {
     "ename": "ModuleNotFoundError",
     "evalue": "No module named 'langchain_community'",
     "output_type": "error",
     "traceback": [
      "\u001b[0;31m---------------------------------------------------------------------------\u001b[0m",
      "\u001b[0;31mModuleNotFoundError\u001b[0m                       Traceback (most recent call last)",
      "Cell \u001b[0;32mIn[4], line 1\u001b[0m\n\u001b[0;32m----> 1\u001b[0m \u001b[38;5;28;01mfrom\u001b[39;00m \u001b[38;5;21;01mlangchain_community\u001b[39;00m\u001b[38;5;21;01m.\u001b[39;00m\u001b[38;5;21;01mllms\u001b[39;00m \u001b[38;5;28;01mimport\u001b[39;00m Ollama\n\u001b[1;32m      3\u001b[0m ollama_model\u001b[38;5;241m=\u001b[39mOllama(base_url\u001b[38;5;241m=\u001b[39m\u001b[38;5;124m'\u001b[39m\u001b[38;5;124mhttp://localhost:11434\u001b[39m\u001b[38;5;124m'\u001b[39m,\n\u001b[1;32m      4\u001b[0m                     model\u001b[38;5;241m=\u001b[39m\u001b[38;5;124m'\u001b[39m\u001b[38;5;124mats_model\u001b[39m\u001b[38;5;124m'\u001b[39m)\n\u001b[1;32m      5\u001b[0m \u001b[38;5;28mprint\u001b[39m(ollama_model\u001b[38;5;241m.\u001b[39minvoke(\u001b[38;5;124m\"\u001b[39m\u001b[38;5;124mwho are you?\u001b[39m\u001b[38;5;124m\"\u001b[39m))\n",
      "\u001b[0;31mModuleNotFoundError\u001b[0m: No module named 'langchain_community'"
     ]
    }
   ],
   "source": [
    "from langchain_community.llms import Ollama\n",
    "\n",
    "ollama_model=Ollama(base_url='http://localhost:11434',\n",
    "                    model='ats_model')\n",
    "print(ollama_model.invoke(\"who are you?\"))"
   ]
  },
  {
   "cell_type": "code",
   "execution_count": 8,
   "metadata": {},
   "outputs": [
    {
     "data": {
      "text/plain": [
       "\"**Job Description Keywords:**\\n\\n1. Python\\n2. Excel\\n3. PowerPoint\\n4. SQL\\n5. Machine Learning (Supervised & Unsupervised)\\n6. Forecasting Techniques\\n7. Azure Data Factory\\n8. Azure Data Bricks\\n9. Data Modeling\\n10. Optimization Models\\n11. Linear Regression\\n\\n**Resume Keywords:**\\n\\n1. Python\\n2. SQL\\n3. Machine Learning (Supervised & Unsupervised)\\n4. Predictive Modeling\\n5. Data Visualization\\n6. Tableau\\n7. AWS Toolkit\\n8. Data Bricks\\n9. DBeaver\\n10. Athena\\n11. NumPy\\n12. Pandas\\n13. Scikit-learn\\n14. Matplotlib\\n15. Seaborn\\n\\n**Missing Keywords in the Resume:**\\n\\n1. Azure Data Factory\\n2. Azure Data Bricks\\n3. Data Modeling\\n4. Optimization Models\\n5. Linear Regression\\n\\n**Matching Score:**\\n\\nBased on the job description and resume, I would give a matching score of **85%**. The resume highlights the candidate's experience in data analysis, machine learning, and data visualization, which aligns well with the job requirements. However, the resume lacks specific mentions of Azure Data Factory, Azure Data Bricks, data modeling, optimization models, and linear regression, which are important skills mentioned in the job description. Overall, the candidate has a strong foundation in data analysis and machine learning, but could benefit from highlighting more specific skills related to the job requirements.\""
      ]
     },
     "execution_count": 8,
     "metadata": {},
     "output_type": "execute_result"
    }
   ],
   "source": [
    "ollama_model.invoke(\"\"\"\n",
    "job description-\n",
    "Job Description:\n",
    "Must-Have Skills:\n",
    "•Python: Extensive expertise in Python for data analysis, scripting, and automation.\n",
    "•Excel & PowerPoint: Advanced skills in Excel for data analysis and in PowerPoint for presenting findings.\n",
    "•SQL: Proficient in SQL for data querying, extraction, and database management.\n",
    "•Machine Learning (Supervised & Unsupervised): Proven experience in applying both supervised and unsupervised machine learning techniques.\n",
    "•Forecasting Techniques: Strong understanding and application of advanced forecasting techniques.\n",
    "•Hands-on experience in implementing optimization models using Machine Learning Programming (MLP) and Linear Regression\n",
    "\n",
    "Good-to-Have Skills:\n",
    "•Azure Data Factory: Familiarity with Azure Data Factory for ETL (Extract, Transform, Load) processes.\n",
    "•Azure Data Bricks: Knowledge of Azure Data Bricks for big data analytics and machine learning.\n",
    "•Data Modeling: Understanding of data modeling concepts to ensure effective database design.\n",
    "\n",
    "Responsibilities:\n",
    "•Data Analysis: Utilize Python, Excel, and SQL to perform in-depth analysis of large and complex datasets.\n",
    "•Machine Learning: Apply advanced supervised and unsupervised machine learning techniques to develop predictive models.\n",
    "•Forecasting Techniques: Employ sophisticated forecasting techniques to predict trends and outcomes.\n",
    "•Machine Learning Programming (MLP) and Linear Regression to enhance decision-making processes.\n",
    "•Reporting and Visualization: Develop insightful dashboards and reports using Excel and PowerPoint for effective communication of findings.\n",
    "\n",
    "Qualifications:\n",
    "Bachelor's degree in a relevant field\n",
    "3 to 5 years of progressive experience in data analysis roles.\n",
    "Strong analytical and problem-solving skills.\n",
    "Excellent communication and collaboration abilities.\n",
    "Demonstrated ability to work independently and as part of a collaborative team.\n",
    "Experience Level: 3 to 5 Years Minimum.\n",
    "Notice Period: Immediate to 15 Days.\n",
    "                    \n",
    "resume-\n",
    "Akhil Pratyush Tadanki\n",
    "Hyderabad, India | +91 8121689798 | t.akhilpratyush@gmail.com | LinkedIn\n",
    "PROFESSIONAL EXPERIENCE\n",
    "Eon Next, London, UK 2022 – 2023\n",
    "Data Scientist\n",
    "Experienced Data Scientist with a strong background in predictive modelling and data visualization.\n",
    "•\n",
    "Contributed to diverse projects like call forecasting for resource allocation, sales call compliance to monitor adherence to call standards, and bill forecasting initiatives.\n",
    "•\n",
    "Developed a predictive model to accurately predict call demand for energy specialists over a two-week period on a 30 min time interval, resulting in a 15% decrease in call waiting times. Integrated the results into the scheduling tool effortlessly and created interactive tableau dashboards for the team leaders to optimise the scheduling task leading to a potential time improvement of nearly 50%, surpassing the effectiveness of a traditional paper-based system.\n",
    "•\n",
    "Automated the sales call compliance process by utilising voice analytics and text-matching algorithms. Improved the compliance rates from 60% to 80%, while concurrently crafting a statistical dashboard with a user-friendly hierarchy for team leaders to effortlessly monitor performance and pinpoint areas for improvement. Actively engaged with team leaders to maintain call compliance rates at a consistent 77%.\n",
    "Mars Inc., TCS, Hyderabad, India 2019 –2021\n",
    "Data Scientist, Associate\n",
    "Expert in developing impactful ML solutions for high-profile projects like Kind Protein Bars and Ombudsman.\n",
    "•\n",
    "Collaborated on building a data processing pipeline using BERT and text matching algorithms to generate automated replies to user queries that correspond to answers already available in the FAQ section, resulting in a 40% reduction in customer response times.\n",
    "•\n",
    "Leveraged google analytics data to get insights like time series seasonal trends, campaign analysis, and website traffic analysis, and built metrics like CHI (customer happiness index) resulting in driving up KPIs like conversion rate, churn, and average order value. Collaborated with multinational team members to design and update over 40+ reports each tailored to a specific user requirement.\n",
    "•\n",
    "Designed various hypothesis tests for customer segmentation, product performance analysis, and marketing campaign effectiveness to extract actionable insights and make statistical decisions.\n",
    "PROJECTS\n",
    "Stock Movement Prediction using Twitter Data & Historical Prices\n",
    "Successfully built a predictive model capable of forecasting stock price movements based on sentiment analysis of Tweets\n",
    "•\n",
    "Designed a multi-layered model combining BERT and LSTM to analyse tweets and stock prices of 20 companies over diverse sectors.\n",
    "•\n",
    "Utilized the BERT model for contextual text extraction of tweets, and concatenated the embeddings with price.\n",
    "•\n",
    "Implemented Long Short-Term Memory (LSTM) network to predict the stock price movements with a precision score of 0.69\n",
    "Classification Of Cell Nuclei in Colon Cancer Sample\n",
    "Developed a deep learning model utilising convolutional neural network (CNNs) architecture for the classification of cell nuclei in colon cancer sample images.\n",
    "•\n",
    "Implemented image pre-processing techniques over a dataset of 5000 cell images and built a CNN architectures to achieve accurate classification of cancerous and non-cancerous cell nuclei.\n",
    "TECHNICAL SKILLS\n",
    "Programming Languages: Python, SQL, Java.\n",
    "Database/Cloud tools: AWS toolkit (S3, GLUE, Sage maker), Data Bricks, DBeaver, Athena, Tableau, Docker, Heroku\n",
    "Libraries: NumPy, Pandas, Scikit-learn, Matplotlib, Seaborn\n",
    "Key Skills: Data Pre-processing techniques, Feature engineering and selection, Statistical Analysis, EDA, Predictive Analysis, Machine learning algorithms, NLP\n",
    "Software Engineering skills: OOPS concepts, Data Structures and Algorithms, Agile methodology.\n",
    "Soft Skills: Git Branch Management, Gitlab, MS Office, Jupyter Notebook, VS code, Analytical Thinking, Statistics.\n",
    "EDUCATION\n",
    "Master of Data Science with Merit 2021 - 2022\n",
    "University of Glasgow, Glasgow, UK\n",
    "Batchelors in Computer Science 2015 - 2019\n",
    "Jawaharlal Nehru Technological University, Kakinada, India\n",
    "ONGOING LEARNINGS\n",
    "Actively pursuing self-directed learning in GPT AI frameworks like LLAMA Index to stay updated with the latest advancements and techniques and pursuing AWS Machine learning & artificial intelligence certification to formalize and validate my existing experience in AWS technologies.\n",
    "Computer Vision Customer Experience Data Cleaning Decision Trees Diffusion Ecommerce Gen Graph High Level Programming Hire Introductory Journals Latency Literature Mathematics NoSQL Optimisation Orchestration Performance Testing Pytorch Recommender Systems Research Papers Software Solutions TensorFlow Clustering Data Cleaning Decision Trees Feature Extraction Introductory Journals Orchestration Performance Testing Software Solutions Bayesian Methods Chrome Complex Data Sets Data Analysis Data Infrastructure Data Mining Ecosystem Experimental Design Market Understanding Mining Product Management Quantitative R Self Service Statistical Data Analysis Storage Solutions Strategic Projects Android Applications Business Challenges Economics Infrastructure Market Methods People Service Social Storage World YouTube Achievement Communicating Organization Prioritize Serve Solving Strategic Support Bayesian Methods Data Analysis Data Infrastructure Data Mining Ecosystem Experimental Design Market Understanding Mathematics Mining Product Management Statistical Data Analysis\n",
    "\"\"\")"
   ]
  }
 ],
 "metadata": {
  "kernelspec": {
   "display_name": "Python 3",
   "language": "python",
   "name": "python3"
  },
  "language_info": {
   "codemirror_mode": {
    "name": "ipython",
    "version": 3
   },
   "file_extension": ".py",
   "mimetype": "text/x-python",
   "name": "python",
   "nbconvert_exporter": "python",
   "pygments_lexer": "ipython3",
   "version": "3.10.14"
  }
 },
 "nbformat": 4,
 "nbformat_minor": 2
}
